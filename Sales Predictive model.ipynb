{
 "cells": [
  {
   "cell_type": "code",
   "execution_count": null,
   "id": "b0f04983",
   "metadata": {},
   "outputs": [],
   "source": [
    "# import sys\n",
    "# !{sys.executable} -m pip install pandas\n",
    "\n",
    "# import sys\n",
    "# !{sys.executable} -m pip install --upgrade pip"
   ]
  },
  {
   "cell_type": "code",
   "execution_count": null,
   "id": "12cbbf19",
   "metadata": {},
   "outputs": [],
   "source": [
    "# import sys\n",
    "# !{sys.executable} -m pip install matplotlib scikit-learn\n"
   ]
  },
  {
   "cell_type": "code",
   "execution_count": 2,
   "id": "34a2bc09",
   "metadata": {},
   "outputs": [],
   "source": [
    "# Data manipulation\n",
    "import pandas as pd\n",
    "import numpy as np\n",
    "\n",
    "# Visualization\n",
    "import matplotlib.pyplot as plt\n",
    "import seaborn as sns\n",
    "\n",
    "# Machine Learning\n",
    "from sklearn.model_selection import train_test_split\n",
    "from sklearn.linear_model import LinearRegression\n",
    "from sklearn.ensemble import RandomForestRegressor\n",
    "from sklearn.metrics import mean_squared_error, mean_absolute_error, r2_score\n",
    "from sklearn.impute import SimpleImputer\n",
    "from sklearn.pipeline import Pipeline, make_pipeline\n",
    "from sklearn.impute import SimpleImputer\n",
    "\n",
    "# Set plot style\n",
    "sns.set(style=\"whitegrid\")\n"
   ]
  },
  {
   "cell_type": "markdown",
   "id": "6b92660e",
   "metadata": {},
   "source": [
    "## Data Overview"
   ]
  },
  {
   "cell_type": "code",
   "execution_count": 3,
   "id": "07a2a04c",
   "metadata": {},
   "outputs": [],
   "source": [
    "df = pd.read_csv(r\"C:\\Users\\fakisseh\\Downloads\\MACPROS\\archive\\sales_data_sample.csv\", encoding='latin1')"
   ]
  },
  {
   "cell_type": "markdown",
   "id": "1d15f262",
   "metadata": {},
   "source": [
    "## Data Cleaning"
   ]
  },
  {
   "cell_type": "code",
   "execution_count": null,
   "id": "de3908b1",
   "metadata": {},
   "outputs": [],
   "source": [
    "df.head()"
   ]
  },
  {
   "cell_type": "code",
   "execution_count": 4,
   "id": "b78788aa",
   "metadata": {},
   "outputs": [
    {
     "name": "stdout",
     "output_type": "stream",
     "text": [
      "<class 'pandas.core.frame.DataFrame'>\n",
      "RangeIndex: 2823 entries, 0 to 2822\n",
      "Data columns (total 25 columns):\n",
      " #   Column            Non-Null Count  Dtype  \n",
      "---  ------            --------------  -----  \n",
      " 0   ORDERNUMBER       2823 non-null   int64  \n",
      " 1   QUANTITYORDERED   2823 non-null   int64  \n",
      " 2   PRICEEACH         2823 non-null   float64\n",
      " 3   ORDERLINENUMBER   2823 non-null   int64  \n",
      " 4   SALES             2823 non-null   float64\n",
      " 5   ORDERDATE         2823 non-null   object \n",
      " 6   STATUS            2823 non-null   object \n",
      " 7   QTR_ID            2823 non-null   int64  \n",
      " 8   MONTH_ID          2823 non-null   int64  \n",
      " 9   YEAR_ID           2823 non-null   int64  \n",
      " 10  PRODUCTLINE       2823 non-null   object \n",
      " 11  MSRP              2823 non-null   int64  \n",
      " 12  PRODUCTCODE       2823 non-null   object \n",
      " 13  CUSTOMERNAME      2823 non-null   object \n",
      " 14  PHONE             2823 non-null   object \n",
      " 15  ADDRESSLINE1      2823 non-null   object \n",
      " 16  ADDRESSLINE2      302 non-null    object \n",
      " 17  CITY              2823 non-null   object \n",
      " 18  STATE             1337 non-null   object \n",
      " 19  POSTALCODE        2747 non-null   object \n",
      " 20  COUNTRY           2823 non-null   object \n",
      " 21  TERRITORY         1749 non-null   object \n",
      " 22  CONTACTLASTNAME   2823 non-null   object \n",
      " 23  CONTACTFIRSTNAME  2823 non-null   object \n",
      " 24  DEALSIZE          2823 non-null   object \n",
      "dtypes: float64(2), int64(7), object(16)\n",
      "memory usage: 551.5+ KB\n"
     ]
    }
   ],
   "source": [
    "df.info()"
   ]
  },
  {
   "cell_type": "code",
   "execution_count": null,
   "id": "332c2bc3",
   "metadata": {},
   "outputs": [],
   "source": [
    "df.describe()"
   ]
  },
  {
   "cell_type": "code",
   "execution_count": null,
   "id": "4b1fe1f7",
   "metadata": {},
   "outputs": [],
   "source": [
    "df.isnull().sum()"
   ]
  },
  {
   "cell_type": "code",
   "execution_count": null,
   "id": "effa1c97",
   "metadata": {},
   "outputs": [],
   "source": [
    "df = df.drop([\"ADDRESSLINE2\",\"TERRITORY\",\"ORDERNUMBER\",\"PHONE\",\"CONTACTLASTNAME\",\"CONTACTFIRSTNAME\",\"STATE\",\"POSTALCODE\"],axis=\"columns\")"
   ]
  },
  {
   "cell_type": "code",
   "execution_count": null,
   "id": "f09fb221",
   "metadata": {},
   "outputs": [],
   "source": [
    "df.info()"
   ]
  },
  {
   "cell_type": "code",
   "execution_count": null,
   "id": "1a070381",
   "metadata": {},
   "outputs": [],
   "source": [
    "df.head()"
   ]
  },
  {
   "cell_type": "markdown",
   "id": "a642b37e",
   "metadata": {},
   "source": [
    "## Data Preparation (Feature Engineering)"
   ]
  },
  {
   "cell_type": "code",
   "execution_count": null,
   "id": "e9489449",
   "metadata": {},
   "outputs": [],
   "source": [
    "df[\"ORDERDATE\"] = pd.to_datetime(df[\"ORDERDATE\"])\n",
    "df[\"DAY\"] = df[\"ORDERDATE\"].dt.day"
   ]
  },
  {
   "cell_type": "code",
   "execution_count": null,
   "id": "403a7337",
   "metadata": {},
   "outputs": [],
   "source": [
    "# feature columns to train model\n",
    "feature = [\"QUANTITYORDERED\",\"PRICEEACH\",\"MSRP\",\"YEAR_ID\",\"MONTH_ID\",\"DAY\",\"QTR_ID\",\"PRODUCTLINE\",\"COUNTRY\",\"DEALSIZE\"]"
   ]
  },
  {
   "cell_type": "code",
   "execution_count": null,
   "id": "b5cd9d3f",
   "metadata": {},
   "outputs": [],
   "source": [
    "df_model = df[feature + [\"SALES\"]]\n",
    "df_encoded = pd.get_dummies(df_model,columns=[\"PRODUCTLINE\",\"DEALSIZE\",\"COUNTRY\"],drop_first=True)"
   ]
  },
  {
   "cell_type": "code",
   "execution_count": null,
   "id": "2489364c",
   "metadata": {},
   "outputs": [],
   "source": [
    "X = df_encoded.drop(columns=\"SALES\")\n",
    "y = df_encoded[\"SALES\"]"
   ]
  },
  {
   "cell_type": "markdown",
   "id": "934a2292",
   "metadata": {},
   "source": [
    "## Train/Test Split"
   ]
  },
  {
   "cell_type": "code",
   "execution_count": null,
   "id": "2b7bef08",
   "metadata": {},
   "outputs": [],
   "source": [
    "#splitting data for training and testing\n",
    "X_train, X_test, y_train,y_test =train_test_split(X,y,test_size=0.2,random_state=42)"
   ]
  },
  {
   "cell_type": "markdown",
   "id": "a96583be",
   "metadata": {},
   "source": [
    "## Model Training"
   ]
  },
  {
   "cell_type": "markdown",
   "id": "d0ba2c03",
   "metadata": {},
   "source": [
    "### Baseline"
   ]
  },
  {
   "cell_type": "code",
   "execution_count": null,
   "id": "00d9ea36",
   "metadata": {},
   "outputs": [],
   "source": [
    "# Building baseline model\n",
    "linear = LinearRegression()"
   ]
  },
  {
   "cell_type": "code",
   "execution_count": null,
   "id": "05ea9076",
   "metadata": {},
   "outputs": [],
   "source": [
    "# fitting model in baseline\n",
    "linear.fit(X_train,y_train)"
   ]
  },
  {
   "cell_type": "markdown",
   "id": "6a729cc1",
   "metadata": {},
   "source": [
    "### Stronger"
   ]
  },
  {
   "cell_type": "code",
   "execution_count": null,
   "id": "8d71c557",
   "metadata": {},
   "outputs": [],
   "source": [
    "rf_reg = RandomForestRegressor(n_estimators=300,max_depth=None,random_state=42)"
   ]
  },
  {
   "cell_type": "code",
   "execution_count": null,
   "id": "e8da8e79",
   "metadata": {},
   "outputs": [],
   "source": [
    "rf_reg.fit(X_train,y_train)"
   ]
  },
  {
   "cell_type": "markdown",
   "id": "a747f4a4",
   "metadata": {},
   "source": [
    "## Evaluation"
   ]
  },
  {
   "cell_type": "code",
   "execution_count": null,
   "id": "155044eb",
   "metadata": {},
   "outputs": [],
   "source": [
    "def eval_model(model, name):\n",
    "    pred = model.predict(X_test)\n",
    "    print(f\"{name}\")\n",
    "    print(\"  MAE :\", mean_absolute_error(y_test, pred))\n",
    "    print(\"  RMSE:\", np.sqrt(mean_squared_error(y_test, pred)))\n",
    "    print(\"  R²  :\", r2_score(y_test, pred), \"\\n\")\n",
    "\n",
    "eval_model(linear, \"Linear Regression\")\n",
    "eval_model(rf_reg,  \"Random Forest\")"
   ]
  },
  {
   "cell_type": "markdown",
   "id": "abaeaddb",
   "metadata": {},
   "source": [
    "## Feature Importance"
   ]
  },
  {
   "cell_type": "code",
   "execution_count": null,
   "id": "e31dc8c8",
   "metadata": {},
   "outputs": [],
   "source": [
    "importances = pd.Series(rf_reg.feature_importances_, index=X.columns)\n",
    "top_feats  = importances.sort_values(ascending=False).head(15)\n",
    "\n",
    "plt.figure(figsize=(8,6))\n",
    "sns.barplot(x=top_feats, y=top_feats.index)\n",
    "plt.title(\"Random Forest – Top Feature Importances\")\n",
    "plt.xlabel(\"Importance\")\n",
    "plt.ylabel(\"\")\n",
    "plt.tight_layout()\n",
    "plt.show()\n"
   ]
  },
  {
   "cell_type": "code",
   "execution_count": null,
   "id": "34cb076e",
   "metadata": {},
   "outputs": [],
   "source": []
  }
 ],
 "metadata": {
  "kernelspec": {
   "display_name": "Python 3",
   "language": "python",
   "name": "python3"
  },
  "language_info": {
   "codemirror_mode": {
    "name": "ipython",
    "version": 3
   },
   "file_extension": ".py",
   "mimetype": "text/x-python",
   "name": "python",
   "nbconvert_exporter": "python",
   "pygments_lexer": "ipython3",
   "version": "3.12.8"
  }
 },
 "nbformat": 4,
 "nbformat_minor": 5
}
